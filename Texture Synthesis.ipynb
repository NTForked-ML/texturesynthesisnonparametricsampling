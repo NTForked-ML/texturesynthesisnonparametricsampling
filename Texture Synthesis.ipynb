{
 "cells": [
  {
   "cell_type": "markdown",
   "metadata": {},
   "source": [
    "The code is by Anastasia Opara (www.anastasiaopara.com)\n",
    "\n",
    "Provided for use under the MIT license\n",
    "\n",
    "Based on \"Texture Synthesis with Non-parametric Sampling\" https://www2.eecs.berkeley.edu/Research/Projects/CS/vision/papers/efros-iccv99.pdf"
   ]
  },
  {
   "cell_type": "code",
   "execution_count": 1,
   "metadata": {},
   "outputs": [],
   "source": [
    "#DONT FORGET TO RUN THIS :)\n",
    "from textureSynthesis import *\n",
    "from makeGif import *"
   ]
  },
  {
   "cell_type": "markdown",
   "metadata": {},
   "source": [
    "### Here is the part that requires your input! :)\n",
    "##### So, what are all those parameters anyway? Glad you asked!\n",
    "* **exampleMapPath** - a string with a path to the example image that you want to generate more of!\n",
    "\n",
    "* **outputSize** - a path where you want your output image(s) to be saved to! (the algorithm will also create a txt file with your parameters, so you don't forget what your setting for each generation were ^^)\n",
    "\n",
    "* **searchKernelSize** - is how 'far' each pixel is aware of neighbouring pixels. With bigger value you will capture more 'global' structures (but it will be slower)\n",
    "\n",
    "* **truncation** - once we have an X number of candidate colors sampled from the example map for a given pixel, we need to choose which one we go with. Truncation makes sure you don't pick too unlikely samples. Make sure to keep the value in [0,1) range, where 0 is no truncation at all, and 0.9 means you will keep only 10% best samples and choose from them\n",
    "\n",
    "* **attenuation** - it goes together with truncation! attenuation is a 2nd step and it makes sure you will prioritize higher probability samples (if you want to of course! you can turn it off by setting value to 1). Make sure to keep it in [1, inf). If you feel very experimental, you can set it <1 which, on the contrary, will prioritize lower likelihood samples! (haven't tried myself)\n",
    "\n",
    "* **snapshots** - will save an image per iteration (if False, only save the final image) - needed if you want to make a gif :)\n",
    "\n",
    "And...that's all! Have fun :)"
   ]
  },
  {
   "cell_type": "code",
   "execution_count": 2,
   "metadata": {},
   "outputs": [
    {
     "data": {
      "image/png": "[encoded data removed]",
      "text/plain": [
       "<Figure size 432x288 with 1 Axes>"
      ]
     },
     "metadata": {
      "needs_background": "light"
     },
     "output_type": "display_data"
    },
    {
     "data": {
      "text/plain": [
       "None"
      ]
     },
     "metadata": {},
     "output_type": "display_data"
    }
   ],
   "source": [
    "#PUT YOUR PARAMETERS HERE\n",
    "exampleMapPath = \"imgs/1.jpg\"\n",
    "outputSize = [5,5]\n",
    "outputPath = \"out/1/\"\n",
    "searchKernelSize = 3\n",
    "\n",
    "textureSynthesis(exampleMapPath, outputSize, searchKernelSize, outputPath, attenuation = 80, truncation = 0.8, snapshots = True)"
   ]
  },
  {
   "cell_type": "markdown",
   "metadata": {},
   "source": [
    "## *Make GIF!*\n",
    "If you chose 'snapshots = True' option, then you can convert the sequence of images into an animated GIF! \n",
    "* **frame_every_X_steps** - sometimes you want your GIF to not include *every* frame, this one allows you to skip X number of frames! (don't worry, it will always end up on the last frame to show the fully resolved image)\n",
    "* **repeat_ending** - specify how many frames the GIF will loop over the final reoslved image"
   ]
  },
  {
   "cell_type": "code",
   "execution_count": 3,
   "metadata": {},
   "outputs": [
    {
     "name": "stdout",
     "output_type": "stream",
     "text": [
      "29\n"
     ]
    }
   ],
   "source": [
    "gifOutputPath = \"out/outGif.gif\"\n",
    "\n",
    "makeGif(outputPath, gifOutputPath, frame_every_X_steps = 15, repeat_ending = 15)"
   ]
  }
 ],
 "metadata": {
  "kernelspec": {
   "display_name": "Python 3",
   "language": "python",
   "name": "python3"
  },
  "language_info": {
   "codemirror_mode": {
    "name": "ipython",
    "version": 3
   },
   "file_extension": ".py",
   "mimetype": "text/x-python",
   "name": "python",
   "nbconvert_exporter": "python",
   "pygments_lexer": "ipython3",
   "version": "3.7.0"
  }
 },
 "nbformat": 4,
 "nbformat_minor": 2
}
